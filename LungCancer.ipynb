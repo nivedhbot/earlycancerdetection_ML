{
 "cells": [
  {
   "cell_type": "code",
   "execution_count": 3,
   "metadata": {},
   "outputs": [
    {
     "name": "stdout",
     "output_type": "stream",
     "text": [
      "(309, 16)\n",
      "<class 'pandas.core.frame.DataFrame'>\n",
      "RangeIndex: 309 entries, 0 to 308\n",
      "Data columns (total 16 columns):\n",
      " #   Column                 Non-Null Count  Dtype \n",
      "---  ------                 --------------  ----- \n",
      " 0   GENDER                 309 non-null    object\n",
      " 1   AGE                    309 non-null    int64 \n",
      " 2   SMOKING                309 non-null    int64 \n",
      " 3   YELLOW_FINGERS         309 non-null    int64 \n",
      " 4   ANXIETY                309 non-null    int64 \n",
      " 5   PEER_PRESSURE          309 non-null    int64 \n",
      " 6   CHRONIC_DISEASE        309 non-null    int64 \n",
      " 7   FATIGUE                309 non-null    int64 \n",
      " 8   ALLERGY                309 non-null    int64 \n",
      " 9   WHEEZING               309 non-null    int64 \n",
      " 10  ALCOHOL_CONSUMING      309 non-null    int64 \n",
      " 11  COUGHING               309 non-null    int64 \n",
      " 12  SHORTNESS_OF_BREATH    309 non-null    int64 \n",
      " 13  SWALLOWING DIFFICULTY  309 non-null    int64 \n",
      " 14  CHEST_PAIN             309 non-null    int64 \n",
      " 15  LUNG_CANCER            309 non-null    object\n",
      "dtypes: int64(14), object(2)\n",
      "memory usage: 38.8+ KB\n",
      "None\n",
      "  GENDER  AGE  SMOKING  YELLOW_FINGERS  ANXIETY  PEER_PRESSURE  \\\n",
      "0      M   69        1               2        2              1   \n",
      "1      M   74        2               1        1              1   \n",
      "2      F   59        1               1        1              2   \n",
      "3      M   63        2               2        2              1   \n",
      "4      F   63        1               2        1              1   \n",
      "\n",
      "   CHRONIC_DISEASE  FATIGUE  ALLERGY  WHEEZING  ALCOHOL_CONSUMING  COUGHING  \\\n",
      "0                1        2        1         2                  2         2   \n",
      "1                2        2        2         1                  1         1   \n",
      "2                1        2        1         2                  1         2   \n",
      "3                1        1        1         1                  2         1   \n",
      "4                1        1        1         2                  1         2   \n",
      "\n",
      "   SHORTNESS_OF_BREATH  SWALLOWING DIFFICULTY  CHEST_PAIN LUNG_CANCER  \n",
      "0                    2                      2           2         YES  \n",
      "1                    2                      2           2         YES  \n",
      "2                    2                      1           2          NO  \n",
      "3                    1                      2           2          NO  \n",
      "4                    2                      1           1          NO  \n"
     ]
    }
   ],
   "source": [
    "import pandas as pd\n",
    "\n",
    "df_lung = pd.read_csv(\"D:/Sem 3/ML project/survey lung cancer.csv\", encoding='utf-8')\n",
    "print(df_lung.shape)\n",
    "\n",
    "print(df_lung.info())\n",
    "print(df_lung.head())\n"
   ]
  },
  {
   "cell_type": "code",
   "execution_count": 4,
   "metadata": {},
   "outputs": [
    {
     "name": "stdout",
     "output_type": "stream",
     "text": [
      "['YES' 'NO']\n"
     ]
    }
   ],
   "source": [
    "print(df_lung['LUNG_CANCER'].unique())\n"
   ]
  },
  {
   "cell_type": "code",
   "execution_count": 5,
   "metadata": {},
   "outputs": [
    {
     "name": "stdout",
     "output_type": "stream",
     "text": [
      "GENDER                   object\n",
      "AGE                       int64\n",
      "SMOKING                   int64\n",
      "YELLOW_FINGERS            int64\n",
      "ANXIETY                   int64\n",
      "PEER_PRESSURE             int64\n",
      "CHRONIC_DISEASE           int64\n",
      "FATIGUE                   int64\n",
      "ALLERGY                   int64\n",
      "WHEEZING                  int64\n",
      "ALCOHOL_CONSUMING         int64\n",
      "COUGHING                  int64\n",
      "SHORTNESS_OF_BREATH       int64\n",
      "SWALLOWING DIFFICULTY     int64\n",
      "CHEST_PAIN                int64\n",
      "LUNG_CANCER              object\n",
      "dtype: object\n",
      "['YES' 'NO']\n"
     ]
    }
   ],
   "source": [
    "print(df_lung.dtypes)  \n",
    "print(df_lung['LUNG_CANCER'].unique())  "
   ]
  },
  {
   "cell_type": "code",
   "execution_count": 7,
   "metadata": {},
   "outputs": [
    {
     "name": "stdout",
     "output_type": "stream",
     "text": [
      "0\n",
      "(309, 16)\n"
     ]
    }
   ],
   "source": [
    "print(df_lung['LUNG_CANCER'].isna().sum()) \n",
    "print(df_lung.shape)  \n"
   ]
  },
  {
   "cell_type": "markdown",
   "metadata": {},
   "source": [
    "PREPROCESSING OF DATA"
   ]
  },
  {
   "cell_type": "code",
   "execution_count": 6,
   "metadata": {},
   "outputs": [
    {
     "name": "stdout",
     "output_type": "stream",
     "text": [
      "   GENDER  AGE  SMOKING  YELLOW_FINGERS  ANXIETY  PEER_PRESSURE  \\\n",
      "0       1   69        1               2        2              1   \n",
      "1       1   74        2               1        1              1   \n",
      "2       0   59        1               1        1              2   \n",
      "3       1   63        2               2        2              1   \n",
      "4       0   63        1               2        1              1   \n",
      "\n",
      "   CHRONIC_DISEASE  FATIGUE  ALLERGY  WHEEZING  ALCOHOL_CONSUMING  COUGHING  \\\n",
      "0                1        2        1         2                  2         2   \n",
      "1                2        2        2         1                  1         1   \n",
      "2                1        2        1         2                  1         2   \n",
      "3                1        1        1         1                  2         1   \n",
      "4                1        1        1         2                  1         2   \n",
      "\n",
      "   SHORTNESS_OF_BREATH  SWALLOWING DIFFICULTY  CHEST_PAIN  LUNG_CANCER  \n",
      "0                    2                      2           2            1  \n",
      "1                    2                      2           2            1  \n",
      "2                    2                      1           2            0  \n",
      "3                    1                      2           2            0  \n",
      "4                    2                      1           1            0  \n"
     ]
    }
   ],
   "source": [
    "from sklearn.preprocessing import LabelEncoder\n",
    "\n",
    "df_lung = df_lung.apply(lambda col: LabelEncoder().fit_transform(col) if col.dtype == 'O' else col)\n",
    "\n",
    "print(df_lung.head())\n"
   ]
  },
  {
   "cell_type": "code",
   "execution_count": null,
   "metadata": {},
   "outputs": [],
   "source": []
  }
 ],
 "metadata": {
  "kernelspec": {
   "display_name": "base",
   "language": "python",
   "name": "python3"
  },
  "language_info": {
   "codemirror_mode": {
    "name": "ipython",
    "version": 3
   },
   "file_extension": ".py",
   "mimetype": "text/x-python",
   "name": "python",
   "nbconvert_exporter": "python",
   "pygments_lexer": "ipython3",
   "version": "3.11.7"
  }
 },
 "nbformat": 4,
 "nbformat_minor": 2
}
