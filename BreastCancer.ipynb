{
 "cells": [
  {
   "cell_type": "code",
   "execution_count": 1,
   "metadata": {},
   "outputs": [
    {
     "name": "stdout",
     "output_type": "stream",
     "text": [
      "<class 'pandas.core.frame.DataFrame'>\n",
      "RangeIndex: 569 entries, 0 to 568\n",
      "Data columns (total 32 columns):\n",
      " #   Column                   Non-Null Count  Dtype  \n",
      "---  ------                   --------------  -----  \n",
      " 0   id                       569 non-null    int64  \n",
      " 1   diagnosis                569 non-null    object \n",
      " 2   radius_mean              569 non-null    float64\n",
      " 3   texture_mean             569 non-null    float64\n",
      " 4   perimeter_mean           569 non-null    float64\n",
      " 5   area_mean                569 non-null    float64\n",
      " 6   smoothness_mean          569 non-null    float64\n",
      " 7   compactness_mean         569 non-null    float64\n",
      " 8   concavity_mean           569 non-null    float64\n",
      " 9   concave points_mean      569 non-null    float64\n",
      " 10  symmetry_mean            569 non-null    float64\n",
      " 11  fractal_dimension_mean   569 non-null    float64\n",
      " 12  radius_se                569 non-null    float64\n",
      " 13  texture_se               569 non-null    float64\n",
      " 14  perimeter_se             569 non-null    float64\n",
      " 15  area_se                  569 non-null    float64\n",
      " 16  smoothness_se            569 non-null    float64\n",
      " 17  compactness_se           569 non-null    float64\n",
      " 18  concavity_se             569 non-null    float64\n",
      " 19  concave points_se        569 non-null    float64\n",
      " 20  symmetry_se              569 non-null    float64\n",
      " 21  fractal_dimension_se     569 non-null    float64\n",
      " 22  radius_worst             569 non-null    float64\n",
      " 23  texture_worst            569 non-null    float64\n",
      " 24  perimeter_worst          569 non-null    float64\n",
      " 25  area_worst               569 non-null    float64\n",
      " 26  smoothness_worst         569 non-null    float64\n",
      " 27  compactness_worst        569 non-null    float64\n",
      " 28  concavity_worst          569 non-null    float64\n",
      " 29  concave points_worst     569 non-null    float64\n",
      " 30  symmetry_worst           569 non-null    float64\n",
      " 31  fractal_dimension_worst  569 non-null    float64\n",
      "dtypes: float64(30), int64(1), object(1)\n",
      "memory usage: 142.4+ KB\n",
      "None\n",
      "         id diagnosis  radius_mean  texture_mean  perimeter_mean  area_mean  \\\n",
      "0    842302         M        17.99         10.38          122.80     1001.0   \n",
      "1    842517         M        20.57         17.77          132.90     1326.0   \n",
      "2  84300903         M        19.69         21.25          130.00     1203.0   \n",
      "3  84348301         M        11.42         20.38           77.58      386.1   \n",
      "4  84358402         M        20.29         14.34          135.10     1297.0   \n",
      "\n",
      "   smoothness_mean  compactness_mean  concavity_mean  concave points_mean  \\\n",
      "0          0.11840           0.27760          0.3001              0.14710   \n",
      "1          0.08474           0.07864          0.0869              0.07017   \n",
      "2          0.10960           0.15990          0.1974              0.12790   \n",
      "3          0.14250           0.28390          0.2414              0.10520   \n",
      "4          0.10030           0.13280          0.1980              0.10430   \n",
      "\n",
      "   ...  radius_worst  texture_worst  perimeter_worst  area_worst  \\\n",
      "0  ...         25.38          17.33           184.60      2019.0   \n",
      "1  ...         24.99          23.41           158.80      1956.0   \n",
      "2  ...         23.57          25.53           152.50      1709.0   \n",
      "3  ...         14.91          26.50            98.87       567.7   \n",
      "4  ...         22.54          16.67           152.20      1575.0   \n",
      "\n",
      "   smoothness_worst  compactness_worst  concavity_worst  concave points_worst  \\\n",
      "0            0.1622             0.6656           0.7119                0.2654   \n",
      "1            0.1238             0.1866           0.2416                0.1860   \n",
      "2            0.1444             0.4245           0.4504                0.2430   \n",
      "3            0.2098             0.8663           0.6869                0.2575   \n",
      "4            0.1374             0.2050           0.4000                0.1625   \n",
      "\n",
      "   symmetry_worst  fractal_dimension_worst  \n",
      "0          0.4601                  0.11890  \n",
      "1          0.2750                  0.08902  \n",
      "2          0.3613                  0.08758  \n",
      "3          0.6638                  0.17300  \n",
      "4          0.2364                  0.07678  \n",
      "\n",
      "[5 rows x 32 columns]\n"
     ]
    }
   ],
   "source": [
    "import pandas as pd\n",
    "\n",
    "file_path =\"breast-cancer-wisconsin-data.csv\"\n",
    "df_breast = pd.read_csv(file_path)\n",
    "\n",
    "df_breast = pd.read_csv(file_path)\n",
    "\n",
    "print(df_breast.info())\n",
    "print(df_breast.head())\n"
   ]
  },
  {
   "cell_type": "code",
   "execution_count": 2,
   "metadata": {},
   "outputs": [
    {
     "name": "stdout",
     "output_type": "stream",
     "text": [
      "diagnosis                  0\n",
      "radius_mean                0\n",
      "texture_mean               0\n",
      "perimeter_mean             0\n",
      "area_mean                  0\n",
      "smoothness_mean            0\n",
      "compactness_mean           0\n",
      "concavity_mean             0\n",
      "concave points_mean        0\n",
      "symmetry_mean              0\n",
      "fractal_dimension_mean     0\n",
      "radius_se                  0\n",
      "texture_se                 0\n",
      "perimeter_se               0\n",
      "area_se                    0\n",
      "smoothness_se              0\n",
      "compactness_se             0\n",
      "concavity_se               0\n",
      "concave points_se          0\n",
      "symmetry_se                0\n",
      "fractal_dimension_se       0\n",
      "radius_worst               0\n",
      "texture_worst              0\n",
      "perimeter_worst            0\n",
      "area_worst                 0\n",
      "smoothness_worst           0\n",
      "compactness_worst          0\n",
      "concavity_worst            0\n",
      "concave points_worst       0\n",
      "symmetry_worst             0\n",
      "fractal_dimension_worst    0\n",
      "dtype: int64\n"
     ]
    }
   ],
   "source": [
    "from sklearn.preprocessing import LabelEncoder\n",
    "\n",
    "if \"id\" in df_breast.columns:\n",
    "    df_breast.drop(columns=[\"id\"], inplace=True)\n",
    "\n",
    "if \"diagnosis\" in df_breast.columns:\n",
    "    df_breast[\"diagnosis\"] = LabelEncoder().fit_transform(df_breast[\"diagnosis\"])\n",
    "\n",
    "print(df_breast.isnull().sum())\n",
    "\n",
    "df_breast.fillna(df_breast.median(), inplace=True)\n"
   ]
  },
  {
   "cell_type": "code",
   "execution_count": 3,
   "metadata": {},
   "outputs": [
    {
     "name": "stdout",
     "output_type": "stream",
     "text": [
      "diagnosis                    2\n",
      "radius_mean                456\n",
      "texture_mean               479\n",
      "perimeter_mean             522\n",
      "area_mean                  539\n",
      "smoothness_mean            474\n",
      "compactness_mean           537\n",
      "concavity_mean             537\n",
      "concave points_mean        542\n",
      "symmetry_mean              432\n",
      "fractal_dimension_mean     499\n",
      "radius_se                  540\n",
      "texture_se                 519\n",
      "perimeter_se               533\n",
      "area_se                    528\n",
      "smoothness_se              547\n",
      "compactness_se             541\n",
      "concavity_se               533\n",
      "concave points_se          507\n",
      "symmetry_se                498\n",
      "fractal_dimension_se       545\n",
      "radius_worst               457\n",
      "texture_worst              511\n",
      "perimeter_worst            514\n",
      "area_worst                 544\n",
      "smoothness_worst           411\n",
      "compactness_worst          529\n",
      "concavity_worst            539\n",
      "concave points_worst       492\n",
      "symmetry_worst             500\n",
      "fractal_dimension_worst    535\n",
      "dtype: int64\n"
     ]
    }
   ],
   "source": [
    "print(df_breast.nunique())\n"
   ]
  },
  {
   "cell_type": "code",
   "execution_count": 4,
   "metadata": {},
   "outputs": [
    {
     "name": "stdout",
     "output_type": "stream",
     "text": [
      "   diagnosis radius_mean texture_mean perimeter_mean area_mean  \\\n",
      "0          1      Medium          Low         Medium    Medium   \n",
      "1          1      Medium          Low         Medium    Medium   \n",
      "2          1      Medium       Medium         Medium    Medium   \n",
      "3          1         Low       Medium            Low       Low   \n",
      "4          1      Medium          Low         Medium    Medium   \n",
      "\n",
      "  smoothness_mean compactness_mean concavity_mean  concave points_mean  \\\n",
      "0          Medium             High           High              0.14710   \n",
      "1             Low              Low            Low              0.07017   \n",
      "2          Medium           Medium         Medium              0.12790   \n",
      "3            High             High         Medium              0.10520   \n",
      "4          Medium           Medium         Medium              0.10430   \n",
      "\n",
      "  symmetry_mean  ...  radius_worst  texture_worst  perimeter_worst  \\\n",
      "0          High  ...         25.38          17.33           184.60   \n",
      "1        Medium  ...         24.99          23.41           158.80   \n",
      "2        Medium  ...         23.57          25.53           152.50   \n",
      "3          High  ...         14.91          26.50            98.87   \n",
      "4        Medium  ...         22.54          16.67           152.20   \n",
      "\n",
      "   area_worst  smoothness_worst  compactness_worst  concavity_worst  \\\n",
      "0      2019.0            0.1622             0.6656           0.7119   \n",
      "1      1956.0            0.1238             0.1866           0.2416   \n",
      "2      1709.0            0.1444             0.4245           0.4504   \n",
      "3       567.7            0.2098             0.8663           0.6869   \n",
      "4      1575.0            0.1374             0.2050           0.4000   \n",
      "\n",
      "   concave points_worst  symmetry_worst  fractal_dimension_worst  \n",
      "0                0.2654          0.4601                  0.11890  \n",
      "1                0.1860          0.2750                  0.08902  \n",
      "2                0.2430          0.3613                  0.08758  \n",
      "3                0.2575          0.6638                  0.17300  \n",
      "4                0.1625          0.2364                  0.07678  \n",
      "\n",
      "[5 rows x 31 columns]\n"
     ]
    }
   ],
   "source": [
    "import numpy as np\n",
    "\n",
    "for column in [\"radius_mean\", \"texture_mean\", \"perimeter_mean\", \"area_mean\",\n",
    "               \"smoothness_mean\", \"compactness_mean\", \"concavity_mean\", \"symmetry_mean\"]:\n",
    "    df_breast[column] = pd.cut(df_breast[column], bins=3, labels=[\"Low\", \"Medium\", \"High\"])\n",
    "\n",
    "print(df_breast.head()) \n"
   ]
  },
  {
   "cell_type": "code",
   "execution_count": 5,
   "metadata": {},
   "outputs": [],
   "source": [
    "columns_to_discretize = [\n",
    "    \"concave points_mean\", \"fractal_dimension_mean\"\n",
    "]\n",
    "\n",
    "for column in columns_to_discretize:\n",
    "    df_breast[column] = pd.cut(df_breast[column], bins=3, labels=[\"Low\", \"Medium\", \"High\"])\n"
   ]
  },
  {
   "cell_type": "code",
   "execution_count": 6,
   "metadata": {},
   "outputs": [
    {
     "name": "stdout",
     "output_type": "stream",
     "text": [
      "diagnosis                     int32\n",
      "radius_mean                category\n",
      "texture_mean               category\n",
      "perimeter_mean             category\n",
      "area_mean                  category\n",
      "smoothness_mean            category\n",
      "compactness_mean           category\n",
      "concavity_mean             category\n",
      "concave points_mean        category\n",
      "symmetry_mean              category\n",
      "fractal_dimension_mean     category\n",
      "radius_se                   float64\n",
      "texture_se                  float64\n",
      "perimeter_se                float64\n",
      "area_se                     float64\n",
      "smoothness_se               float64\n",
      "compactness_se              float64\n",
      "concavity_se                float64\n",
      "concave points_se           float64\n",
      "symmetry_se                 float64\n",
      "fractal_dimension_se        float64\n",
      "radius_worst                float64\n",
      "texture_worst               float64\n",
      "perimeter_worst             float64\n",
      "area_worst                  float64\n",
      "smoothness_worst            float64\n",
      "compactness_worst           float64\n",
      "concavity_worst             float64\n",
      "concave points_worst        float64\n",
      "symmetry_worst              float64\n",
      "fractal_dimension_worst     float64\n",
      "dtype: object\n"
     ]
    }
   ],
   "source": [
    "print(df_breast.dtypes)\n"
   ]
  },
  {
   "cell_type": "code",
   "execution_count": 8,
   "metadata": {},
   "outputs": [
    {
     "name": "stdout",
     "output_type": "stream",
     "text": [
      "Bayesian Network Model Trained Successfully!\n"
     ]
    }
   ],
   "source": [
    "from pgmpy.models import BayesianNetwork\n",
    "from pgmpy.estimators import MaximumLikelihoodEstimator\n",
    "\n",
    "model = BayesianNetwork([\n",
    "    (\"radius_mean\", \"diagnosis\"),\n",
    "    (\"texture_mean\", \"diagnosis\"),\n",
    "    (\"perimeter_mean\", \"diagnosis\"),\n",
    "    (\"area_mean\", \"diagnosis\"),\n",
    "    (\"smoothness_mean\", \"diagnosis\"),\n",
    "    (\"compactness_mean\", \"diagnosis\"),\n",
    "    (\"concavity_mean\", \"diagnosis\"),\n",
    "    (\"symmetry_mean\", \"diagnosis\")\n",
    "])\n",
    "\n",
    "model.fit(df_breast, estimator=MaximumLikelihoodEstimator)\n",
    "print(\"Bayesian Network Model Trained Successfully!\")\n"
   ]
  },
  {
   "cell_type": "code",
   "execution_count": 9,
   "metadata": {},
   "outputs": [
    {
     "name": "stderr",
     "output_type": "stream",
     "text": [
      "WARNING:pgmpy:Replacing existing CPD for radius_mean\n",
      "WARNING:pgmpy:Replacing existing CPD for diagnosis\n",
      "WARNING:pgmpy:Replacing existing CPD for texture_mean\n",
      "WARNING:pgmpy:Replacing existing CPD for perimeter_mean\n",
      "WARNING:pgmpy:Replacing existing CPD for area_mean\n",
      "WARNING:pgmpy:Replacing existing CPD for smoothness_mean\n",
      "WARNING:pgmpy:Replacing existing CPD for compactness_mean\n",
      "WARNING:pgmpy:Replacing existing CPD for concavity_mean\n",
      "WARNING:pgmpy:Replacing existing CPD for symmetry_mean\n"
     ]
    },
    {
     "name": "stdout",
     "output_type": "stream",
     "text": [
      "[<TabularCPD representing P(radius_mean:3) at 0x2a5f393bed0>, <TabularCPD representing P(diagnosis:2 | area_mean:3, compactness_mean:3, concavity_mean:3, perimeter_mean:3, radius_mean:3, smoothness_mean:3, symmetry_mean:3, texture_mean:3) at 0x2a5f3189490>, <TabularCPD representing P(texture_mean:3) at 0x2a5f3188e50>, <TabularCPD representing P(perimeter_mean:3) at 0x2a5f392a210>, <TabularCPD representing P(area_mean:3) at 0x2a5f3185610>, <TabularCPD representing P(smoothness_mean:3) at 0x2a5f393dc90>, <TabularCPD representing P(compactness_mean:3) at 0x2a5f393c290>, <TabularCPD representing P(concavity_mean:3) at 0x2a5f393f9d0>, <TabularCPD representing P(symmetry_mean:3) at 0x2a5f393ed50>]\n"
     ]
    }
   ],
   "source": [
    "from pgmpy.estimators import MaximumLikelihoodEstimator\n",
    "\n",
    "model.fit(df_breast, estimator=MaximumLikelihoodEstimator)\n",
    "\n",
    "print(model.get_cpds())\n"
   ]
  },
  {
   "cell_type": "code",
   "execution_count": 11,
   "metadata": {},
   "outputs": [
    {
     "name": "stdout",
     "output_type": "stream",
     "text": [
      "\n",
      "Enter tumor characteristics:\n",
      "1: radius mean\n",
      "2: texture mean\n",
      "3: perimeter mean\n",
      "4: area mean\n",
      "5: smoothness mean\n",
      "6: compactness mean\n",
      "7: concavity mean\n",
      "8: symmetry mean\n",
      "\n",
      "Breast Cancer Probability:\n",
      "Benign: 97.06%\n",
      "Malignant: 2.94%\n"
     ]
    },
    {
     "name": "stderr",
     "output_type": "stream",
     "text": [
      "C:\\Users\\DELL\\AppData\\Local\\Temp\\ipykernel_16696\\2453380272.py:40: FutureWarning: \n",
      "\n",
      "Passing `palette` without assigning `hue` is deprecated and will be removed in v0.14.0. Assign the `x` variable to `hue` and set `legend=False` for the same effect.\n",
      "\n",
      "  sns.barplot(x=labels, y=probs, palette=[\"green\", \"red\"])\n"
     ]
    },
    {
     "data": {
      "image/png": "[encoded data removed]",
      "text/plain": [
       "<Figure size 600x400 with 1 Axes>"
      ]
     },
     "metadata": {},
     "output_type": "display_data"
    }
   ],
   "source": [
    "from pgmpy.inference import VariableElimination\n",
    "import seaborn as sns\n",
    "import matplotlib.pyplot as plt\n",
    "\n",
    "inference = VariableElimination(model)\n",
    "\n",
    "feature_mapping = {\n",
    "    1: \"radius_mean\",\n",
    "    2: \"texture_mean\",\n",
    "    3: \"perimeter_mean\",\n",
    "    4: \"area_mean\",\n",
    "    5: \"smoothness_mean\",\n",
    "    6: \"compactness_mean\",\n",
    "    7: \"concavity_mean\",\n",
    "    8: \"symmetry_mean\"\n",
    "}\n",
    "\n",
    "def predict_breast_cancer():\n",
    "    print(\"\\nEnter tumor characteristics:\")\n",
    "    for num, feature in feature_mapping.items():\n",
    "        print(f\"{num}: {feature.replace('_', ' ')}\")\n",
    "\n",
    "    selected_nums = input(\"\\nEnter feature numbers and values (e.g., 1:Low,3:High,5:Medium): \")\n",
    "    \n",
    "    evidence = {}\n",
    "    for item in selected_nums.split(\",\"):\n",
    "        num, value = item.split(\":\")\n",
    "        evidence[feature_mapping[int(num)]] = value \n",
    "\n",
    "    query_result = inference.query(variables=[\"diagnosis\"], evidence=evidence)\n",
    "    \n",
    "    probs = query_result.values\n",
    "    labels = [\"Benign\", \"Malignant\"]\n",
    "\n",
    "    print(\"\\nBreast Cancer Probability:\")\n",
    "    for label, prob in zip(labels, probs):\n",
    "        print(f\"{label}: {prob:.2%}\")\n",
    "\n",
    "    plt.figure(figsize=(6, 4))\n",
    "    sns.barplot(x=labels, y=probs, palette=[\"green\", \"red\"])\n",
    "    plt.xlabel(\"Breast Cancer Prediction\")\n",
    "    plt.ylabel(\"Probability\")\n",
    "    plt.title(\"Breast Cancer Probability Distribution\")\n",
    "    plt.ylim(0, 1)\n",
    "    plt.show()\n",
    "\n",
    "predict_breast_cancer()\n"
   ]
  },
  {
   "cell_type": "code",
   "execution_count": null,
   "metadata": {},
   "outputs": [],
   "source": []
  }
 ],
 "metadata": {
  "kernelspec": {
   "display_name": "base",
   "language": "python",
   "name": "python3"
  },
  "language_info": {
   "codemirror_mode": {
    "name": "ipython",
    "version": 3
   },
   "file_extension": ".py",
   "mimetype": "text/x-python",
   "name": "python",
   "nbconvert_exporter": "python",
   "pygments_lexer": "ipython3",
   "version": "3.11.7"
  }
 },
 "nbformat": 4,
 "nbformat_minor": 2
}
